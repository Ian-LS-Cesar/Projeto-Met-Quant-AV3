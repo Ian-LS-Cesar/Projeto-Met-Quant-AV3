{
 "cells": [
  {
   "cell_type": "markdown",
   "metadata": {},
   "source": [
    "# Questão 1"
   ]
  },
  {
   "cell_type": "code",
   "execution_count": null,
   "metadata": {},
   "outputs": [
    {
     "ename": "SyntaxError",
     "evalue": "illegal target for annotation (3301814306.py, line 1)",
     "output_type": "error",
     "traceback": [
      "\u001b[1;36m  Cell \u001b[1;32mIn[1], line 1\u001b[1;36m\u001b[0m\n\u001b[1;33m    q1_x <- 0:50\u001b[0m\n\u001b[1;37m    ^\u001b[0m\n\u001b[1;31mSyntaxError\u001b[0m\u001b[1;31m:\u001b[0m illegal target for annotation\n"
     ]
    }
   ],
   "source": [
    "q1_x <- 0:50\n",
    "\n",
    "\n",
    "q1_simples <- dbinom(q1_x, 50,  0.3)\n",
    "q1_acumulada <- pbinom(q1_x, 50, 0.3)\n",
    "\n",
    "plot(q1_x, q1_simples, type = \"h\")\n",
    "plot(q1_x,q1_acumulada, type = \"h\")\n",
    "\n",
    "\n",
    "\n",
    "#"
   ]
  },
  {
   "cell_type": "markdown",
   "metadata": {},
   "source": [
    "# Questão 2\n"
   ]
  },
  {
   "cell_type": "code",
   "execution_count": null,
   "metadata": {
    "vscode": {
     "languageId": "r"
    }
   },
   "outputs": [
    {
     "ename": "SyntaxError",
     "evalue": "illegal target for annotation (716637512.py, line 1)",
     "output_type": "error",
     "traceback": [
      "\u001b[1;36m  Cell \u001b[1;32mIn[1], line 1\u001b[1;36m\u001b[0m\n\u001b[1;33m    x <- 0:100\u001b[0m\n\u001b[1;37m    ^\u001b[0m\n\u001b[1;31mSyntaxError\u001b[0m\u001b[1;31m:\u001b[0m illegal target for annotation\n"
     ]
    }
   ],
   "source": [
    "\n",
    "\n",
    "x <- 0:100\n",
    "\n",
    "fx1 <- dpois(x, 25)\n",
    "plot(x, fx, type = 'h')\n",
    "\n",
    "fx2 <- ppois(x,40)\n",
    "\n",
    "plot(x,fx2,type = 'h')"
   ]
  },
  {
   "cell_type": "markdown",
   "metadata": {},
   "source": [
    "# Questão 4"
   ]
  },
  {
   "cell_type": "code",
   "execution_count": null,
   "metadata": {},
   "outputs": [
    {
     "data": {
      "text/html": [
       "0.000295764663712699"
      ],
      "text/latex": [
       "0.000295764663712699"
      ],
      "text/markdown": [
       "0.000295764663712699"
      ],
      "text/plain": [
       "[1] 0.0002957647"
      ]
     },
     "metadata": {},
     "output_type": "display_data"
    },
    {
     "data": {
      "text/html": [
       "0.112105208054978"
      ],
      "text/latex": [
       "0.112105208054978"
      ],
      "text/markdown": [
       "0.112105208054978"
      ],
      "text/plain": [
       "[1] 0.1121052"
      ]
     },
     "metadata": {},
     "output_type": "display_data"
    },
    {
     "data": {
      "text/html": [
       "0.208906330332109"
      ],
      "text/latex": [
       "0.208906330332109"
      ],
      "text/markdown": [
       "0.208906330332109"
      ],
      "text/plain": [
       "[1] 0.2089063"
      ]
     },
     "metadata": {},
     "output_type": "display_data"
    },
    {
     "data": {
      "text/html": [
       "0.999999999999955"
      ],
      "text/latex": [
       "0.999999999999955"
      ],
      "text/markdown": [
       "0.999999999999955"
      ],
      "text/plain": [
       "[1] 1"
      ]
     },
     "metadata": {},
     "output_type": "display_data"
    },
    {
     "data": {
      "text/html": [
       "0.891141352975622"
      ],
      "text/latex": [
       "0.891141352975622"
      ],
      "text/markdown": [
       "0.891141352975622"
      ],
      "text/plain": [
       "[1] 0.8911414"
      ]
     },
     "metadata": {},
     "output_type": "display_data"
    },
    {
     "data": {
      "text/html": [
       "0.0300605282007782"
      ],
      "text/latex": [
       "0.0300605282007782"
      ],
      "text/markdown": [
       "0.0300605282007782"
      ],
      "text/plain": [
       "[1] 0.03006053"
      ]
     },
     "metadata": {},
     "output_type": "display_data"
    }
   ],
   "source": [
    "#Item A\n",
    "\n",
    "#Modelo Binomial\n",
    "q4_n <- 50  #n = 50\n",
    "q4_p <- 0.15 #p = 0.15\n",
    "\n",
    "#Item B\n",
    "\n",
    "##p(x=0) = 0.000295764663712699\n",
    "\n",
    "q4_b <- dbinom(0, q4_n, q4_p)\n",
    "q4_b\n",
    "\n",
    "#Item C\n",
    "\n",
    "##p(x < 5) = 0.112105208054978\n",
    "\n",
    "q4_c <- pbinom(4, q4_n, q4_p)\n",
    "q4_c\n",
    "\n",
    "#Item D\n",
    "\n",
    "##p(x >= 10) = 0.208906330332109\n",
    "\n",
    "q4_d <- 1 - pbinom(9, q4_n, q4_p)\n",
    "q4_d\n",
    "\n",
    "#Item E\n",
    "\n",
    "# p(x <= 30) = 0.999999999999955\n",
    "\n",
    "q4_e <-  pbinom(30, q4_n, q4_p)\n",
    "q4_e\n",
    "\n",
    "#Item F\n",
    "\n",
    "##p(3 < x < 12) = 0.891141352975622\n",
    "\n",
    "q4_f <- pbinom(11, q4_n, q4_p) - pbinom(3, q4_n, q4_p)\n",
    "q4_f\n",
    "\n",
    "#Item G\n",
    "\n",
    "##p(13 <= x <= 27) = 0.0300605282007782\n",
    "\n",
    "q4_g <-  pbinom(27, q4_n, q4_p) - pbinom(12, q4_n, q4_p)\n",
    "q4_g"
   ]
  }
 ],
 "metadata": {
  "kernelspec": {
   "display_name": "base",
   "language": "python",
   "name": "python3"
  },
  "language_info": {
   "codemirror_mode": {
    "name": "ipython",
    "version": 3
   },
   "file_extension": ".py",
   "mimetype": "text/x-python",
   "name": "python",
   "nbconvert_exporter": "python",
   "pygments_lexer": "ipython3",
   "version": "3.12.7"
  }
 },
 "nbformat": 4,
 "nbformat_minor": 2
}
