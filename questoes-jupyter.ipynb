{
 "cells": [
  {
   "cell_type": "markdown",
   "metadata": {},
   "source": [
    "\n",
    "# 8 10 12"
   ]
  },
  {
   "cell_type": "markdown",
   "metadata": {},
   "source": [
    "# Trabalho Métodos Quantitativos\n",
    "\n",
    "## Matriculas\n",
    "**Nome:** Ian Lucas \n",
    "\n",
    "**Matrícula:** 2310294  \n",
    "\n",
    "\n",
    "**Nome:** Pedro Guilherme\n",
    "\n",
    "**Matrícula:** 2223975"
   ]
  },
  {
   "cell_type": "markdown",
   "metadata": {},
   "source": [
    "# Questão 1"
   ]
  },
  {
   "cell_type": "code",
   "execution_count": null,
   "metadata": {
    "vscode": {
     "languageId": "r"
    }
   },
   "outputs": [],
   "source": [
    "q1_x <- 0:50\n",
    "\n",
    "\n",
    "q1_simples <- dbinom(q1_x, 50,  0.3)\n",
    "q1_acumulada <- pbinom(q1_x, 50, 0.3)\n",
    "\n",
    "plot(q1_x, q1_simples, type = \"h\")\n",
    "plot(q1_x,q1_acumulada, type = \"h\")"
   ]
  },
  {
   "cell_type": "markdown",
   "metadata": {},
   "source": [
    "# Questão 2\n"
   ]
  },
  {
   "cell_type": "code",
   "execution_count": null,
   "metadata": {
    "vscode": {
     "languageId": "r"
    }
   },
   "outputs": [],
   "source": [
    "\n",
    "q2_x <- 0:100\n",
    "\n",
    "q2_fx1 <- dpois(q2_x, 25)\n",
    "plot(q2_x, fx1, type = 'h')\n",
    "\n",
    "q2_fx2 <- ppois(q2_x, 40)\n",
    "\n",
    "plot(q2_x, q2_fx2, type = 'h')"
   ]
  },
  {
   "cell_type": "markdown",
   "metadata": {},
   "source": [
    "# Questão 3"
   ]
  },
  {
   "cell_type": "code",
   "execution_count": null,
   "metadata": {
    "vscode": {
     "languageId": "r"
    }
   },
   "outputs": [],
   "source": [
    "peso <- 0:1000\n",
    "x = rnorm(1000,65,5)\n",
    "y = hist(rnorm(1000,65,5), freq = FALSE)\n",
    "curve(dnorm(x, mean = 65, sd = 5), \n",
    "      col = \"darkblue\", lwd = 2, add = TRUE)"
   ]
  },
  {
   "cell_type": "markdown",
   "metadata": {},
   "source": [
    "# Questão 4"
   ]
  },
  {
   "cell_type": "code",
   "execution_count": null,
   "metadata": {
    "vscode": {
     "languageId": "r"
    }
   },
   "outputs": [],
   "source": [
    "#Item A\n",
    "\n",
    "#Modelo Binomial\n",
    "q4_n <- 50  #n = 50\n",
    "q4_p <- 0.15 #p = 0.15\n",
    "\n",
    "#Item B\n",
    "\n",
    "##p(x=0) = 0.000295764663712699\n",
    "\n",
    "q4_b <- dbinom(0, q4_n, q4_p)\n",
    "q4_b\n",
    "\n",
    "#Item C\n",
    "\n",
    "##p(x < 5) = 0.112105208054978\n",
    "\n",
    "q4_c <- pbinom(4, q4_n, q4_p)\n",
    "q4_c\n",
    "\n",
    "#Item D\n",
    "\n",
    "##p(x >= 10) = 0.208906330332109\n",
    "\n",
    "q4_d <- 1 - pbinom(9, q4_n, q4_p)\n",
    "q4_d\n",
    "\n",
    "#Item E\n",
    "\n",
    "# p(x <= 30) = 0.999999999999955\n",
    "\n",
    "q4_e <-  pbinom(30, q4_n, q4_p)\n",
    "q4_e\n",
    "\n",
    "#Item F\n",
    "\n",
    "##p(3 < x < 12) = 0.891141352975622\n",
    "\n",
    "q4_f <- pbinom(11, q4_n, q4_p) - pbinom(3, q4_n, q4_p)\n",
    "q4_f\n",
    "\n",
    "#Item G\n",
    "\n",
    "##p(13 <= x <= 27) = 0.0300605282007782\n",
    "\n",
    "q4_g <-  pbinom(27, q4_n, q4_p) - pbinom(12, q4_n, q4_p)\n",
    "q4_g"
   ]
  },
  {
   "cell_type": "markdown",
   "metadata": {},
   "source": [
    "# Questão 5"
   ]
  },
  {
   "cell_type": "code",
   "execution_count": null,
   "metadata": {
    "vscode": {
     "languageId": "r"
    }
   },
   "outputs": [],
   "source": [
    "q5_n <- 1000 # n = 1000\n",
    "q5_p <- 0.25 # p = 0.25\n",
    "\n",
    "#Item A\n",
    "\n",
    "##p(x = 0) = 0.778800783071405\n",
    "q5_a <- dpois(0, q5_p)\n",
    "\n",
    "\n",
    "#Item B\n",
    "\n",
    "##p(x <= 3) = 0.999866630349486\n",
    "q5_b <- ppois(3, q5_p)\n",
    "\n",
    "#Item C\n",
    "\n",
    "##p(x >= 5) = 1 - p(x <= 4) = 6.61171056104415e-06\n",
    "q5_c <- 1 - ppois(4, q5_p)\n",
    "\n",
    "#Item D\n",
    "\n",
    "#n = 500\n",
    "#p = 0.5\n",
    "\n",
    "\n",
    "q5_d <- pbinom(3, 10, dpois(0, 0.5))\n"
   ]
  },
  {
   "cell_type": "markdown",
   "metadata": {},
   "source": [
    "# Questão 7"
   ]
  },
  {
   "cell_type": "code",
   "execution_count": null,
   "metadata": {
    "vscode": {
     "languageId": "r"
    }
   },
   "outputs": [
    {
     "data": {
      "text/html": [
       "1796.00540231899"
      ],
      "text/latex": [
       "1796.00540231899"
      ],
      "text/markdown": [
       "1796.00540231899"
      ],
      "text/plain": [
       "[1] 1796.005"
      ]
     },
     "metadata": {},
     "output_type": "display_data"
    }
   ],
   "source": [
    "#μ = 2090\n",
    "#σ = 150\n",
    "media_7 <- 2090\n",
    "desvio_padrao_7 <- 150\n",
    "\n",
    "#Item A\n",
    "\n",
    "##p(x >= 1900) = 0.897362748167864\n",
    "\n",
    "q7_a <- 1 - pnorm(1900, media_7, desvio_padrao_7)\n",
    "\n",
    "#Item B\n",
    "\n",
    "## p(1800 <= x <= 1900) = 0.0760396778111262\n",
    "q7_b <- pnorm(1900, media_7, desvio_padrao_7) - pnorm(1800, media_7, desvio_padrao_7)\n",
    "\n",
    "#Item C\n",
    "\n",
    "q7_c <- qnorm(0.025, media_7, desvio_padrao_7)\n",
    "q7_c\n",
    "#Item D\n",
    "\n",
    "# p(x <= 1) = 7.37624119494705e-05\n",
    "q7_d <- pbinom(1, 4, 1 - pnorm(1800, media_7, desvio_padrao_7))\n",
    "\n",
    "#Item E\n",
    "\n",
    "## p(x = 2) = 0.344071080519169\n",
    "q7_e <- dbinom(2, 5, pnorm(2060, media_7, desvio_padrao_7))"
   ]
  },
  {
   "cell_type": "markdown",
   "metadata": {},
   "source": [
    "# Questão 8"
   ]
  },
  {
   "cell_type": "code",
   "execution_count": null,
   "metadata": {
    "vscode": {
     "languageId": "r"
    }
   },
   "outputs": [],
   "source": [
    "#a)\n",
    "p_qst8_a <- pnorm(990, 1000, 10)\n",
    "p_qst8_a\n",
    "\n",
    "#b)\n",
    "p_qst8_b <- pnorm((1000+(2*10)), 1000, 10) - pnorm((1000 - (2*10)),1000,10)\n",
    "p_qst8_b\n",
    "\n",
    "#c)\n",
    "prob_maior_1002 <- 1 - pnorm(1002, mean = 1000, sd = 10)\n",
    "n <- 10\n",
    "prob_no_max_4 <- pbinom(4, n, prob_maior_1002)\n",
    "prob_no_max_4\n"
   ]
  },
  {
   "cell_type": "markdown",
   "metadata": {},
   "source": [
    "# Questão 9"
   ]
  },
  {
   "cell_type": "code",
   "execution_count": null,
   "metadata": {
    "vscode": {
     "languageId": "r"
    }
   },
   "outputs": [
    {
     "name": "stdout",
     "output_type": "stream",
     "text": [
      "[1] 273\n"
     ]
    }
   ],
   "source": [
    "tamanho_amostra <- function(N, e, alpha, p) {\n",
    "\n",
    "    Z <- qnorm(1 - alpha/2) # Valor crítico para um intervalo de confiança de 95%\n",
    "\n",
    "    n <- (N * p * (1 - p) * (Z^2)) / ((N - 1) * (e^2) + p * (1 - p) * (Z^2))\n",
    "\n",
    "    n_arredondado <- ceiling(n) # Arredonda o valor de n para cima\n",
    "\n",
    "    return(n_arredondado)\n",
    "}\n",
    "# Exemplo\n",
    "# N = 5000 (Tamanho da População)\n",
    "# e = 0.05 (Margem de Erro)\n",
    "# alpha = 0.05 (Nível de Significância)\n",
    "# p = 0.25 (Probabilidade de Sucesso)\n",
    "\n",
    "# n = 273 (Tamanho da Amostra)\n",
    "q_9 <- tamanho_amostra(5000, 0.05, 0.05, 0.25)\n",
    "print(q_9)\n"
   ]
  },
  {
   "cell_type": "markdown",
   "metadata": {},
   "source": [
    "# Questão 10"
   ]
  },
  {
   "cell_type": "code",
   "execution_count": 19,
   "metadata": {
    "vscode": {
     "languageId": "r"
    }
   },
   "outputs": [
    {
     "data": {
      "text/html": [
       "<style>\n",
       ".list-inline {list-style: none; margin:0; padding: 0}\n",
       ".list-inline>li {display: inline-block}\n",
       ".list-inline>li:not(:last-child)::after {content: \"\\00b7\"; padding: 0 .5ex}\n",
       "</style>\n",
       "<ol class=list-inline><li>1931.35075978671</li><li>2020.13304520563</li><li>1972.10652048251</li><li>2000.51232732607</li><li>1997.10618523085</li><li>1972.00120640748</li><li>1986.20204395883</li><li>2008.17134295567</li><li>2024.72633473223</li><li>2007.67100987016</li><li>1937.42711390933</li><li>2067.85243848005</li><li>2000.23552219579</li><li>1927.67836800246</li><li>2037.27640992276</li><li>2024.69021431435</li><li>2027.52297625154</li><li>1993.66788668589</li><li>2040.66055911358</li><li>2027.50800243327</li><li>1950.44232056042</li><li>1992.53215762242</li><li>2024.45151543896</li><li>1972.82498239555</li><li>2022.94350547499</li><li>1941.67000805891</li><li>2016.79791548267</li><li>1982.40712371966</li><li>1987.87541142546</li><li>2033.04429664661</li><li>2030.16085871086</li><li>1969.95321122722</li><li>1984.63558184748</li><li>1998.09402047152</li><li>1976.09556423616</li><li>1993.8953798266</li><li>2030.31712991527</li><li>1958.29613377631</li><li>1978.66456391434</li><li>2036.70745020993</li><li>2010.64335843335</li><li>1979.2071083372</li><li>2007.3523391806</li><li>2013.72579139675</li><li>1993.94361511145</li><li>1949.50983616612</li><li>1986.19230370801</li><li>2001.54459027214</li><li>1964.04809398303</li><li>1949.41507664211</li></ol>\n"
      ],
      "text/latex": [
       "\\begin{enumerate*}\n",
       "\\item 1931.35075978671\n",
       "\\item 2020.13304520563\n",
       "\\item 1972.10652048251\n",
       "\\item 2000.51232732607\n",
       "\\item 1997.10618523085\n",
       "\\item 1972.00120640748\n",
       "\\item 1986.20204395883\n",
       "\\item 2008.17134295567\n",
       "\\item 2024.72633473223\n",
       "\\item 2007.67100987016\n",
       "\\item 1937.42711390933\n",
       "\\item 2067.85243848005\n",
       "\\item 2000.23552219579\n",
       "\\item 1927.67836800246\n",
       "\\item 2037.27640992276\n",
       "\\item 2024.69021431435\n",
       "\\item 2027.52297625154\n",
       "\\item 1993.66788668589\n",
       "\\item 2040.66055911358\n",
       "\\item 2027.50800243327\n",
       "\\item 1950.44232056042\n",
       "\\item 1992.53215762242\n",
       "\\item 2024.45151543896\n",
       "\\item 1972.82498239555\n",
       "\\item 2022.94350547499\n",
       "\\item 1941.67000805891\n",
       "\\item 2016.79791548267\n",
       "\\item 1982.40712371966\n",
       "\\item 1987.87541142546\n",
       "\\item 2033.04429664661\n",
       "\\item 2030.16085871086\n",
       "\\item 1969.95321122722\n",
       "\\item 1984.63558184748\n",
       "\\item 1998.09402047152\n",
       "\\item 1976.09556423616\n",
       "\\item 1993.8953798266\n",
       "\\item 2030.31712991527\n",
       "\\item 1958.29613377631\n",
       "\\item 1978.66456391434\n",
       "\\item 2036.70745020993\n",
       "\\item 2010.64335843335\n",
       "\\item 1979.2071083372\n",
       "\\item 2007.3523391806\n",
       "\\item 2013.72579139675\n",
       "\\item 1993.94361511145\n",
       "\\item 1949.50983616612\n",
       "\\item 1986.19230370801\n",
       "\\item 2001.54459027214\n",
       "\\item 1964.04809398303\n",
       "\\item 1949.41507664211\n",
       "\\end{enumerate*}\n"
      ],
      "text/markdown": [
       "1. 1931.35075978671\n",
       "2. 2020.13304520563\n",
       "3. 1972.10652048251\n",
       "4. 2000.51232732607\n",
       "5. 1997.10618523085\n",
       "6. 1972.00120640748\n",
       "7. 1986.20204395883\n",
       "8. 2008.17134295567\n",
       "9. 2024.72633473223\n",
       "10. 2007.67100987016\n",
       "11. 1937.42711390933\n",
       "12. 2067.85243848005\n",
       "13. 2000.23552219579\n",
       "14. 1927.67836800246\n",
       "15. 2037.27640992276\n",
       "16. 2024.69021431435\n",
       "17. 2027.52297625154\n",
       "18. 1993.66788668589\n",
       "19. 2040.66055911358\n",
       "20. 2027.50800243327\n",
       "21. 1950.44232056042\n",
       "22. 1992.53215762242\n",
       "23. 2024.45151543896\n",
       "24. 1972.82498239555\n",
       "25. 2022.94350547499\n",
       "26. 1941.67000805891\n",
       "27. 2016.79791548267\n",
       "28. 1982.40712371966\n",
       "29. 1987.87541142546\n",
       "30. 2033.04429664661\n",
       "31. 2030.16085871086\n",
       "32. 1969.95321122722\n",
       "33. 1984.63558184748\n",
       "34. 1998.09402047152\n",
       "35. 1976.09556423616\n",
       "36. 1993.8953798266\n",
       "37. 2030.31712991527\n",
       "38. 1958.29613377631\n",
       "39. 1978.66456391434\n",
       "40. 2036.70745020993\n",
       "41. 2010.64335843335\n",
       "42. 1979.2071083372\n",
       "43. 2007.3523391806\n",
       "44. 2013.72579139675\n",
       "45. 1993.94361511145\n",
       "46. 1949.50983616612\n",
       "47. 1986.19230370801\n",
       "48. 2001.54459027214\n",
       "49. 1964.04809398303\n",
       "50. 1949.41507664211\n",
       "\n",
       "\n"
      ],
      "text/plain": [
       " [1] 1931.351 2020.133 1972.107 2000.512 1997.106 1972.001 1986.202 2008.171\n",
       " [9] 2024.726 2007.671 1937.427 2067.852 2000.236 1927.678 2037.276 2024.690\n",
       "[17] 2027.523 1993.668 2040.661 2027.508 1950.442 1992.532 2024.452 1972.825\n",
       "[25] 2022.944 1941.670 2016.798 1982.407 1987.875 2033.044 2030.161 1969.953\n",
       "[33] 1984.636 1998.094 1976.096 1993.895 2030.317 1958.296 1978.665 2036.707\n",
       "[41] 2010.643 1979.207 2007.352 2013.726 1993.944 1949.510 1986.192 2001.545\n",
       "[49] 1964.048 1949.415"
      ]
     },
     "metadata": {},
     "output_type": "display_data"
    },
    {
     "data": {
      "text/html": [
       "1994.83783022915"
      ],
      "text/latex": [
       "1994.83783022915"
      ],
      "text/markdown": [
       "1994.83783022915"
      ],
      "text/plain": [
       "[1] 1994.838"
      ]
     },
     "metadata": {},
     "output_type": "display_data"
    },
    {
     "data": {
      "text/html": [
       "1007.91733150107"
      ],
      "text/latex": [
       "1007.91733150107"
      ],
      "text/markdown": [
       "1007.91733150107"
      ],
      "text/plain": [
       "[1] 1007.917"
      ]
     },
     "metadata": {},
     "output_type": "display_data"
    },
    {
     "data": {
      "text/html": [
       "31.7477137995963"
      ],
      "text/latex": [
       "31.7477137995963"
      ],
      "text/markdown": [
       "31.7477137995963"
      ],
      "text/plain": [
       "[1] 31.74771"
      ]
     },
     "metadata": {},
     "output_type": "display_data"
    },
    {
     "data": {
      "text/plain": [
       "\n",
       "\tOne Sample t-test\n",
       "\n",
       "data:  amostra\n",
       "t = -1.1498, df = 49, p-value = 0.2558\n",
       "alternative hypothesis: true mean is not equal to 2000\n",
       "95 percent confidence interval:\n",
       " 1985.815 2003.860\n",
       "sample estimates:\n",
       "mean of x \n",
       " 1994.838 \n"
      ]
     },
     "metadata": {},
     "output_type": "display_data"
    }
   ],
   "source": [
    "# media = 2000 Fornecida  pelo pesquisador\n",
    "# variancia = 1254 Fornecida pelo pesquisador\n",
    "# desvio _padrao = raiz da variancia\n",
    "\n",
    "media_pesquisador <- 2000\n",
    "variancia_pesquisador <- 1254\n",
    "desvio_padrao_pesquisador <- sqrt(variancia_pesquisador)\n",
    "\n",
    "amostra <- rnorm(50, media_pesquisador, desvio_padrao_pesquisador)\n",
    "\n",
    "#Amostra Aleatória (n) com 50 elementos\n",
    "amostra\n",
    "\n",
    "#Média da Amostra\n",
    "mean(amostra)\n",
    "\n",
    "#Variância da Amostra\n",
    "var(amostra)\n",
    "\n",
    "#Desvio Padrão da Amostra\n",
    "sd(amostra)\n",
    "\n",
    "#Limite Superior e Inferior da Amostra com Confiabilidade de 95%\n",
    "resultado <- t.test(amostra, mu = media_pesquisador)\n",
    "resultado"
   ]
  },
  {
   "cell_type": "markdown",
   "metadata": {},
   "source": [
    "# Questão 11"
   ]
  },
  {
   "cell_type": "code",
   "execution_count": null,
   "metadata": {
    "vscode": {
     "languageId": "r"
    }
   },
   "outputs": [
    {
     "name": "stdout",
     "output_type": "stream",
     "text": [
      "[1] 81\n"
     ]
    }
   ],
   "source": [
    "# N = 500 (Quantidade de Peças)\n",
    "# e = 0.02 (Margem de erro máximo)\n",
    "# alpha = 0.05 (Nível de significância)\n",
    "# p = 0.01 (Proporção de itens com defeito)\n",
    "\n",
    "# n = 81 (Tamanho de Amostra)\n",
    "q_11 <- tamanho_amostra(500, 0.02, 0.05, 0.01)\n",
    "print(q_11)"
   ]
  },
  {
   "cell_type": "markdown",
   "metadata": {},
   "source": [
    "# Questão 12"
   ]
  },
  {
   "cell_type": "code",
   "execution_count": null,
   "metadata": {
    "vscode": {
     "languageId": "r"
    }
   },
   "outputs": [
    {
     "data": {
      "text/plain": [
       "   Min. 1st Qu.  Median    Mean 3rd Qu.    Max. \n",
       "   2.00    4.00    4.00    4.28    5.00    6.00 "
      ]
     },
     "metadata": {},
     "output_type": "display_data"
    },
    {
     "data": {
      "text/plain": [
       "   Min. 1st Qu.  Median    Mean 3rd Qu.    Max. \n",
       "    800    1000    1169    1238    1344    1800 "
      ]
     },
     "metadata": {},
     "output_type": "display_data"
    },
    {
     "data": {
      "text/plain": [
       "\n",
       "\tOne Sample t-test\n",
       "\n",
       "data:  quantidade_familia\n",
       "t = 18.239, df = 24, p-value = 1.435e-15\n",
       "alternative hypothesis: true mean is not equal to 0\n",
       "95 percent confidence interval:\n",
       " 3.79568 4.76432\n",
       "sample estimates:\n",
       "mean of x \n",
       "     4.28 \n"
      ]
     },
     "metadata": {},
     "output_type": "display_data"
    },
    {
     "data": {
      "text/plain": [
       "\n",
       "\tOne Sample t-test\n",
       "\n",
       "data:  renda_mensal\n",
       "t = 22.991, df = 23, p-value < 2.2e-16\n",
       "alternative hypothesis: true mean is not equal to 0\n",
       "95 percent confidence interval:\n",
       " 1126.534 1349.300\n",
       "sample estimates:\n",
       "mean of x \n",
       " 1237.917 \n"
      ]
     },
     "metadata": {},
     "output_type": "display_data"
    }
   ],
   "source": [
    "\n",
    "#Quantidade de Pessoas por Família\n",
    "quantidade_familia <- c(3, 4, 5, 4, 2, 4, 4, 4, 4, 5, 6, 6, 4, 6, 2, 5, 4, 4, 4, 6, 3, 6, 5, 4, 3)\n",
    "\n",
    "#Renda Mensal\n",
    "renda_mensal <- c(800, 850, 1000, 1000, 1000, 1000, 1000, 1100, 1125, 1158, 1160, 1162, 1176, 1325, 1325, 1325, 1325, 1340, 1354, 1525, 1525, 1575, 1760, 1800)\n",
    "\n",
    "summary(quantidade_familia)\n",
    "summary(renda_mensal)\n",
    "\n",
    "#Médias e Desvio Padrão\n",
    "\n",
    "media_quantidade_familia <- mean(quantidade_familia)\n",
    "media_renda_mensal <- mean(renda_mensal)\n",
    "\n",
    "desvio_padrao_quantidade_familia <- sd(quantidade_familia)\n",
    "desvio_padrao_renda_mensal <- sd(renda_mensal)\n",
    "\n",
    "#Quantidades de Pessoas por Família e Renda Mensal\n",
    "n_quantidade_familia <- length(quantidade_familia)\n",
    "\n",
    "n_renda <- length(renda_mensal)\n",
    "\n",
    "#Taxas de Erro\n",
    "\n",
    "erro_familia <- desvio_padrao_quantidade_familia / sqrt(n_quantidade_familia)\n",
    "erro_renda <- desvio_padrao_renda_mensal / sqrt(n_renda)\n",
    "\n",
    "#Intervalos\n",
    "\n",
    "#Família\n",
    "# [3.79568 <= media <= 4.76432]\n",
    "t.test(quantidade_familia)\n",
    "\n",
    "#Renda\n",
    "# [1126.534 <= media <= 1349.300]\n",
    "t.test(renda_mensal)\n"
   ]
  }
 ],
 "metadata": {
  "kernelspec": {
   "display_name": "R",
   "language": "R",
   "name": "ir"
  },
  "language_info": {
   "codemirror_mode": "r",
   "file_extension": ".r",
   "mimetype": "text/x-r-source",
   "name": "R",
   "pygments_lexer": "r",
   "version": "4.3.1"
  }
 },
 "nbformat": 4,
 "nbformat_minor": 2
}
