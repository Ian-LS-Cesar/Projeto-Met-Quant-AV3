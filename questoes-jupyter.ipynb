{
 "cells": [
  {
   "cell_type": "markdown",
   "metadata": {},
   "source": [
    "\n",
    "# 8 10 12"
   ]
  },
  {
   "cell_type": "markdown",
   "metadata": {},
   "source": [
    "# Trabalho Métodos Quantitativos\n",
    "\n",
    "## Matriculas\n",
    "**Nome:** Ian Lucas \n",
    "\n",
    "**Matrícula:** 2310294  \n",
    "\n",
    "\n",
    "**Nome:** Pedro Guilherme\n",
    "\n",
    "**Matrícula:** 2223975"
   ]
  },
  {
   "cell_type": "markdown",
   "metadata": {},
   "source": [
    "# Questão 1"
   ]
  },
  {
   "cell_type": "code",
   "execution_count": null,
   "metadata": {
    "vscode": {
     "languageId": "r"
    }
   },
   "outputs": [],
   "source": [
    "q1_x <- 0:50\n",
    "\n",
    "\n",
    "q1_simples <- dbinom(q1_x, 50,  0.3)\n",
    "q1_acumulada <- pbinom(q1_x, 50, 0.3)\n",
    "\n",
    "plot(q1_x, q1_simples, type = \"h\")\n",
    "plot(q1_x,q1_acumulada, type = \"h\")"
   ]
  },
  {
   "cell_type": "markdown",
   "metadata": {},
   "source": [
    "# Questão 2\n"
   ]
  },
  {
   "cell_type": "code",
   "execution_count": null,
   "metadata": {
    "vscode": {
     "languageId": "r"
    }
   },
   "outputs": [],
   "source": [
    "\n",
    "q2_x <- 0:100\n",
    "\n",
    "q2_fx1 <- dpois(q2_x, 25)\n",
    "plot(q2_x, fx1, type = 'h')\n",
    "\n",
    "q2_fx2 <- ppois(q2_x, 40)\n",
    "\n",
    "plot(q2_x, q2_fx2, type = 'h')"
   ]
  },
  {
   "cell_type": "markdown",
   "metadata": {},
   "source": [
    "# Questão 3"
   ]
  },
  {
   "cell_type": "code",
   "execution_count": null,
   "metadata": {
    "vscode": {
     "languageId": "r"
    }
   },
   "outputs": [],
   "source": [
    "peso <- 0:1000\n",
    "x = rnorm(1000,65,5)\n",
    "y = hist(rnorm(1000,65,5), freq = FALSE)\n",
    "curve(dnorm(x, mean = 65, sd = 5), \n",
    "      col = \"darkblue\", lwd = 2, add = TRUE)"
   ]
  },
  {
   "cell_type": "markdown",
   "metadata": {},
   "source": [
    "# Questão 4"
   ]
  },
  {
   "cell_type": "code",
   "execution_count": null,
   "metadata": {
    "vscode": {
     "languageId": "r"
    }
   },
   "outputs": [],
   "source": [
    "#Item A\n",
    "\n",
    "#Modelo Binomial\n",
    "q4_n <- 50  #n = 50\n",
    "q4_p <- 0.15 #p = 0.15\n",
    "\n",
    "#Item B\n",
    "\n",
    "##p(x=0) = 0.000295764663712699\n",
    "\n",
    "q4_b <- dbinom(0, q4_n, q4_p)\n",
    "q4_b\n",
    "\n",
    "#Item C\n",
    "\n",
    "##p(x < 5) = 0.112105208054978\n",
    "\n",
    "q4_c <- pbinom(4, q4_n, q4_p)\n",
    "q4_c\n",
    "\n",
    "#Item D\n",
    "\n",
    "##p(x >= 10) = 0.208906330332109\n",
    "\n",
    "q4_d <- 1 - pbinom(9, q4_n, q4_p)\n",
    "q4_d\n",
    "\n",
    "#Item E\n",
    "\n",
    "# p(x <= 30) = 0.999999999999955\n",
    "\n",
    "q4_e <-  pbinom(30, q4_n, q4_p)\n",
    "q4_e\n",
    "\n",
    "#Item F\n",
    "\n",
    "##p(3 < x < 12) = 0.891141352975622\n",
    "\n",
    "q4_f <- pbinom(11, q4_n, q4_p) - pbinom(3, q4_n, q4_p)\n",
    "q4_f\n",
    "\n",
    "#Item G\n",
    "\n",
    "##p(13 <= x <= 27) = 0.0300605282007782\n",
    "\n",
    "q4_g <-  pbinom(27, q4_n, q4_p) - pbinom(12, q4_n, q4_p)\n",
    "q4_g"
   ]
  },
  {
   "cell_type": "markdown",
   "metadata": {},
   "source": [
    "# Questão 5"
   ]
  },
  {
   "cell_type": "code",
   "execution_count": null,
   "metadata": {
    "vscode": {
     "languageId": "r"
    }
   },
   "outputs": [],
   "source": [
    "q5_n <- 1000 # n = 1000\n",
    "q5_p <- 0.25 # p = 0.25\n",
    "\n",
    "#Item A\n",
    "\n",
    "##p(x = 0) = 0.778800783071405\n",
    "q5_a <- dpois(0, q5_p)\n",
    "\n",
    "\n",
    "#Item B\n",
    "\n",
    "##p(x <= 3) = 0.999866630349486\n",
    "q5_b <- ppois(3, q5_p)\n",
    "\n",
    "#Item C\n",
    "\n",
    "##p(x >= 5) = 1 - p(x <= 4) = 6.61171056104415e-06\n",
    "q5_c <- 1 - ppois(4, q5_p)\n",
    "\n",
    "#Item D\n",
    "\n",
    "#n = 500\n",
    "#p = 0.5\n",
    "\n",
    "\n",
    "q5_d <- pbinom(3, 10, dpois(0, 0.5))\n"
   ]
  },
  {
   "cell_type": "markdown",
   "metadata": {},
   "source": [
    "# Questão 7"
   ]
  },
  {
   "cell_type": "code",
   "execution_count": null,
   "metadata": {
    "vscode": {
     "languageId": "r"
    }
   },
   "outputs": [
    {
     "data": {
      "text/html": [
       "1796.00540231899"
      ],
      "text/latex": [
       "1796.00540231899"
      ],
      "text/markdown": [
       "1796.00540231899"
      ],
      "text/plain": [
       "[1] 1796.005"
      ]
     },
     "metadata": {},
     "output_type": "display_data"
    }
   ],
   "source": [
    "#μ = 2090\n",
    "#σ = 150\n",
    "media_7 <- 2090\n",
    "desvio_padrao_7 <- 150\n",
    "\n",
    "#Item A\n",
    "\n",
    "##p(x >= 1900) = 0.897362748167864\n",
    "\n",
    "q7_a <- 1 - pnorm(1900, media_7, desvio_padrao_7)\n",
    "\n",
    "#Item B\n",
    "\n",
    "## p(1800 <= x <= 1900) = 0.0760396778111262\n",
    "q7_b <- pnorm(1900, media_7, desvio_padrao_7) - pnorm(1800, media_7, desvio_padrao_7)\n",
    "\n",
    "#Item C\n",
    "\n",
    "q7_c <- qnorm(0.025, media_7, desvio_padrao_7)\n",
    "q7_c\n",
    "#Item D\n",
    "\n",
    "# p(x <= 1) = 7.37624119494705e-05\n",
    "q7_d <- pbinom(1, 4, 1 - pnorm(1800, media_7, desvio_padrao_7))\n",
    "\n",
    "#Item E\n",
    "\n",
    "## p(x = 2) = 0.344071080519169\n",
    "q7_e <- dbinom(2, 5, pnorm(2060, media_7, desvio_padrao_7))"
   ]
  },
  {
   "cell_type": "markdown",
   "metadata": {},
   "source": [
    "# Questão 8"
   ]
  },
  {
   "cell_type": "code",
   "execution_count": null,
   "metadata": {
    "vscode": {
     "languageId": "r"
    }
   },
   "outputs": [],
   "source": [
    "#a)\n",
    "p_qst8_a <- pnorm(990, 1000, 10)\n",
    "p_qst8_a\n",
    "\n",
    "#b)\n",
    "p_qst8_b <- pnorm((1000+(2*10)), 1000, 10) - pnorm((1000 - (2*10)),1000,10)\n",
    "p_qst8_b\n",
    "\n",
    "#c)\n",
    "prob_maior_1002 <- 1 - pnorm(1002, mean = 1000, sd = 10)\n",
    "n <- 10\n",
    "prob_no_max_4 <- pbinom(4, n, prob_maior_1002)\n",
    "prob_no_max_4\n"
   ]
  },
  {
   "cell_type": "markdown",
   "metadata": {},
   "source": [
    "# Questão 9"
   ]
  },
  {
   "cell_type": "code",
   "execution_count": null,
   "metadata": {
    "vscode": {
     "languageId": "r"
    }
   },
   "outputs": [
    {
     "name": "stdout",
     "output_type": "stream",
     "text": [
      "[1] 273\n"
     ]
    }
   ],
   "source": [
    "tamanho_amostra <- function(N, e, alpha, p) {\n",
    "\n",
    "    Z <- qnorm(1 - alpha/2) # Valor crítico para um intervalo de confiança de 95%\n",
    "\n",
    "    n <- (N * p * (1 - p) * (Z^2)) / ((N - 1) * (e^2) + p * (1 - p) * (Z^2))\n",
    "\n",
    "    n_arredondado <- ceiling(n) # Arredonda o valor de n para cima\n",
    "\n",
    "    return(n_arredondado)\n",
    "}\n",
    "# Exemplo\n",
    "# N = 5000 (Tamanho da População)\n",
    "# e = 0.05 (Margem de Erro)\n",
    "# alpha = 0.05 (Nível de Significância)\n",
    "# p = 0.25 (Probabilidade de Sucesso)\n",
    "\n",
    "# n = 273 (Tamanho da Amostra)\n",
    "q_9 <- tamanho_amostra(5000, 0.05, 0.05, 0.25)\n",
    "print(q_9)\n"
   ]
  },
  {
   "cell_type": "markdown",
   "metadata": {},
   "source": [
    "# Questão 10"
   ]
  },
  {
   "cell_type": "code",
   "execution_count": null,
   "metadata": {
    "vscode": {
     "languageId": "r"
    }
   },
   "outputs": [],
   "source": []
  },
  {
   "cell_type": "markdown",
   "metadata": {},
   "source": [
    "# Questão 11"
   ]
  },
  {
   "cell_type": "code",
   "execution_count": null,
   "metadata": {
    "vscode": {
     "languageId": "r"
    }
   },
   "outputs": [
    {
     "name": "stdout",
     "output_type": "stream",
     "text": [
      "[1] 81\n"
     ]
    }
   ],
   "source": [
    "# N = 500 (Quantidade de Peças)\n",
    "# e = 0.02 (Margem de erro máximo)\n",
    "# alpha = 0.05 (Nível de significância)\n",
    "# p = 0.01 (Proporção de itens com defeito)\n",
    "\n",
    "# n = 81 (Tamanho de Amostra)\n",
    "q_11 <- tamanho_amostra(500, 0.02, 0.05, 0.01)\n",
    "print(q_11)"
   ]
  },
  {
   "cell_type": "markdown",
   "metadata": {},
   "source": [
    "# Questão 12"
   ]
  },
  {
   "cell_type": "code",
   "execution_count": null,
   "metadata": {
    "vscode": {
     "languageId": "r"
    }
   },
   "outputs": [],
   "source": []
  }
 ],
 "metadata": {
  "kernelspec": {
   "display_name": "R",
   "language": "R",
   "name": "ir"
  },
  "language_info": {
   "codemirror_mode": "r",
   "file_extension": ".r",
   "mimetype": "text/x-r-source",
   "name": "R",
   "pygments_lexer": "r",
   "version": "4.3.1"
  }
 },
 "nbformat": 4,
 "nbformat_minor": 2
}
